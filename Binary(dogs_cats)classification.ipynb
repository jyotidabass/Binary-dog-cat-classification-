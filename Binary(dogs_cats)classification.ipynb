{
  "nbformat": 4,
  "nbformat_minor": 0,
  "metadata": {
    "colab": {
      "name": "Binary(dogs-cats)classification.ipynb",
      "provenance": [],
      "collapsed_sections": [],
      "include_colab_link": true
    },
    "kernelspec": {
      "name": "python3",
      "display_name": "Python 3"
    },
    "accelerator": "GPU"
  },
  "cells": [
    {
      "cell_type": "markdown",
      "metadata": {
        "id": "view-in-github",
        "colab_type": "text"
      },
      "source": [
        "<a href=\"https://colab.research.google.com/github/jyotidabass/Binary-dog-cat-classification-/blob/main/Binary(dogs_cats)classification.ipynb\" target=\"_parent\"><img src=\"https://colab.research.google.com/assets/colab-badge.svg\" alt=\"Open In Colab\"/></a>"
      ]
    },
    {
      "cell_type": "markdown",
      "metadata": {
        "id": "a91D7K0EN_Oq"
      },
      "source": [
        "# **Dog or Cat**?\n",
        "In this notebook, I will create a neural network that determines whether an image is of a cat or a dog. The dataset I use is taken from Kaggle, and I only use 10% of the 20000 images to create my model."
      ]
    },
    {
      "cell_type": "code",
      "metadata": {
        "id": "VaaHSWEyU4dv"
      },
      "source": [
        "import os\n",
        "import zipfile\n",
        "import shutil"
      ],
      "execution_count": null,
      "outputs": []
    },
    {
      "cell_type": "markdown",
      "metadata": {
        "id": "ktN1exD3njUb"
      },
      "source": [
        "First we need to get the zip files containing the training,validation and testing images from github. We do that by using !git clone"
      ]
    },
    {
      "cell_type": "code",
      "metadata": {
        "id": "JWA5wZhjnh8B",
        "colab": {
          "base_uri": "https://localhost:8080/"
        },
        "outputId": "6c5b8bdd-4773-44f1-9f7f-580177cfa589"
      },
      "source": [
        "!git clone https://github.com/sidd3103/Cats-vs-Dogs.git"
      ],
      "execution_count": null,
      "outputs": [
        {
          "output_type": "stream",
          "name": "stdout",
          "text": [
            "Cloning into 'Cats-vs-Dogs'...\n",
            "remote: Enumerating objects: 33, done.\u001b[K\n",
            "remote: Counting objects: 100% (23/23), done.\u001b[K\n",
            "remote: Compressing objects: 100% (23/23), done.\u001b[K\n",
            "remote: Total 33 (delta 11), reused 0 (delta 0), pack-reused 10\u001b[K\n",
            "Unpacking objects: 100% (33/33), done.\n"
          ]
        }
      ]
    },
    {
      "cell_type": "markdown",
      "metadata": {
        "id": "_EMwe0Jw7UVT"
      },
      "source": [
        "Next, we unzip the files, delete the __MACOSX files and .DS_Store files that are created and hidden when we zip files on mac. We do all this using the OS, Shutil libraries."
      ]
    },
    {
      "cell_type": "code",
      "metadata": {
        "id": "H9xZnAbZYhRj"
      },
      "source": [
        "local_zip = 'Cats-vs-Dogs/train.zip'\n",
        "zip_ref = zipfile.ZipFile(local_zip,'r')\n",
        "zip_ref.extractall('Cats-vs-Dogs/train')\n",
        "zip_ref.close()\n",
        "shutil.rmtree('Cats-vs-Dogs/train/__MACOSX')"
      ],
      "execution_count": null,
      "outputs": []
    },
    {
      "cell_type": "code",
      "metadata": {
        "id": "LeQjgy2kZsg_"
      },
      "source": [
        "local_zip = 'Cats-vs-Dogs/validation.zip'\n",
        "zip_ref = zipfile.ZipFile(local_zip,'r')\n",
        "zip_ref.extractall('Cats-vs-Dogs/validation')\n",
        "zip_ref.close()\n",
        "shutil.rmtree('Cats-vs-Dogs/validation/__MACOSX')"
      ],
      "execution_count": null,
      "outputs": []
    },
    {
      "cell_type": "code",
      "metadata": {
        "id": "DWj3IrqKax3-"
      },
      "source": [
        "local_zip = 'Cats-vs-Dogs/test.zip'\n",
        "zip_ref = zipfile.ZipFile(local_zip,'r')\n",
        "zip_ref.extractall('Cats-vs-Dogs/test')\n",
        "zip_ref.close()\n",
        "shutil.rmtree('Cats-vs-Dogs/test/__MACOSX')"
      ],
      "execution_count": null,
      "outputs": []
    },
    {
      "cell_type": "code",
      "metadata": {
        "id": "UXkc8EihqZQO"
      },
      "source": [
        "os.remove('Cats-vs-Dogs/test.zip')\n",
        "os.remove('Cats-vs-Dogs/train.zip')\n",
        "os.remove('Cats-vs-Dogs/validation.zip')"
      ],
      "execution_count": null,
      "outputs": []
    },
    {
      "cell_type": "markdown",
      "metadata": {
        "id": "3BpL3fke7t2H"
      },
      "source": [
        "The following code snippet removes the hidden .DS_Store files. \n",
        "Snippet taken from : https://gist.github.com/mattsparks/19a0911999a623a3c302cc29c96b293a"
      ]
    },
    {
      "cell_type": "code",
      "metadata": {
        "id": "RgVJxu0DutN0"
      },
      "source": [
        "import glob\n",
        "os.chdir('/content/Cats-vs-Dogs')\n",
        "for root, dirs, files in os.walk('/'):\n",
        "  i = 0\n",
        "  for file in files:\n",
        "    if file.endswith('.DS_Store'):\n",
        "      path = os.path.join(root, file)\n",
        "      if os.remove(path):\n",
        "        pass\n",
        "      else:\n",
        "        i += 1"
      ],
      "execution_count": null,
      "outputs": []
    },
    {
      "cell_type": "markdown",
      "metadata": {
        "id": "HRNYzQH08TTw"
      },
      "source": [
        "Now we create paths to the directories from where our ImageDataGenerator will take images for training,validation and testing."
      ]
    },
    {
      "cell_type": "code",
      "metadata": {
        "id": "MTHP_2ZlqnJg"
      },
      "source": [
        "base_dir = os.path.join('/content','Cats-vs-Dogs')\n",
        "train_directory = os.path.join((os.path.join(base_dir,'train')),'train')\n",
        "test_directory = os.path.join((os.path.join(base_dir,'test')),'test')\n",
        "validation_directory = os.path.join((os.path.join(base_dir,'validation')),'validation')"
      ],
      "execution_count": null,
      "outputs": []
    },
    {
      "cell_type": "code",
      "metadata": {
        "id": "RPNy5VjSq6nB"
      },
      "source": [
        "from keras.preprocessing.image import ImageDataGenerator"
      ],
      "execution_count": null,
      "outputs": []
    },
    {
      "cell_type": "markdown",
      "metadata": {
        "id": "x-GvNsvS89oV"
      },
      "source": [
        "Our next step is to create our ImageDataGenerators using keras. Before training our model, images require preprocessing. Currently our images exist as JPEG files. We need to : \n",
        "\n",
        "\n",
        "1.   Decode these images to RGB grid of pixels. \n",
        "2.   Convert these pixels to floating-point tensors so that they can be fed into the neural network.\n",
        "3.   Rescale pixels to have a value between 0 and 1.\n",
        "\n",
        "Thankfully, all these tasks can be done using ImageDataGenerators from the keras library.\n"
      ]
    },
    {
      "cell_type": "code",
      "metadata": {
        "id": "Km5NvXC6r9FJ",
        "colab": {
          "base_uri": "https://localhost:8080/"
        },
        "outputId": "283fadad-80a4-49f3-c2bb-d7235d5f1adc"
      },
      "source": [
        "datagen = ImageDataGenerator(rescale = 1./255)\n",
        "train_generator = datagen.flow_from_directory(train_directory,\n",
        "                                              target_size = (150,150),\n",
        "                                              batch_size = 20,\n",
        "                                              class_mode = 'binary')\n",
        "\n",
        "validation_generator = datagen.flow_from_directory(validation_directory,\n",
        "                                              target_size = (150,150),\n",
        "                                              batch_size = 20,\n",
        "                                              class_mode = 'binary')"
      ],
      "execution_count": null,
      "outputs": [
        {
          "output_type": "stream",
          "name": "stdout",
          "text": [
            "Found 2000 images belonging to 2 classes.\n",
            "Found 1000 images belonging to 2 classes.\n"
          ]
        }
      ]
    },
    {
      "cell_type": "code",
      "metadata": {
        "id": "TKs14yZex1_d"
      },
      "source": [
        "from keras import layers\n",
        "from keras import models"
      ],
      "execution_count": null,
      "outputs": []
    },
    {
      "cell_type": "markdown",
      "metadata": {
        "id": "QrDXrqbs-Rid"
      },
      "source": [
        "We define our model in the next code block."
      ]
    },
    {
      "cell_type": "code",
      "metadata": {
        "id": "Jhi2LKInx15a"
      },
      "source": [
        "model = models.Sequential()\n",
        "#First convolutional layer with 32 3x3 filters\n",
        "model.add(layers.Conv2D(32, (3, 3), activation='relu',\n",
        "      input_shape=(150, 150, 3)))\n",
        "model.add(layers.MaxPooling2D((2, 2)))\n",
        "\n",
        "#Second convolutional layer with 64 3x3 filters\n",
        "model.add(layers.Conv2D(64, (3, 3), activation='relu'))\n",
        "model.add(layers.MaxPooling2D((2, 2)))\n",
        "\n",
        "#Third convolutional layer with 128 3x3 filters\n",
        "model.add(layers.Conv2D(128, (3, 3), activation='relu'))\n",
        "model.add(layers.MaxPooling2D((2, 2)))\n",
        "\n",
        "#Fourth convolutional layer with 128 3x3 filters\n",
        "model.add(layers.Conv2D(128, (3, 3), activation='relu'))\n",
        "model.add(layers.MaxPooling2D((2, 2)))\n",
        "\n",
        "#Fifth convolutional layer with 128 3x3 filters\n",
        "model.add(layers.Conv2D(128, (3, 3), activation='relu'))\n",
        "model.add(layers.MaxPooling2D((2, 2)))\n",
        "\n",
        "#We flatten our final feature map and add a hidden dense layer with 512 neurons\n",
        "model.add(layers.Flatten())\n",
        "model.add(layers.Dense(512, activation='relu'))\n",
        "\n",
        "#Our output layer\n",
        "model.add(layers.Dense(1, activation='sigmoid'))"
      ],
      "execution_count": null,
      "outputs": []
    },
    {
      "cell_type": "markdown",
      "metadata": {
        "id": "sQPC4wB4_20Q"
      },
      "source": [
        "Since we are tackling a binary classification problem, our output layer is of size 1 and activation 'sigmoid'. The network will give us a single probability ***p*** and since there are only two classes, the two probabilities will be ***p*** and ***1-p***.\n",
        "\n"
      ]
    },
    {
      "cell_type": "markdown",
      "metadata": {
        "id": "qXwNetor_WKR"
      },
      "source": [
        "Let's print out a summary of our model.\n"
      ]
    },
    {
      "cell_type": "code",
      "metadata": {
        "id": "iiuS_Nu8_ivp",
        "colab": {
          "base_uri": "https://localhost:8080/"
        },
        "outputId": "f9dd1bfa-b069-4248-8aa2-adf05961d395"
      },
      "source": [
        "model.summary()"
      ],
      "execution_count": null,
      "outputs": [
        {
          "output_type": "stream",
          "name": "stdout",
          "text": [
            "Model: \"sequential\"\n",
            "_________________________________________________________________\n",
            " Layer (type)                Output Shape              Param #   \n",
            "=================================================================\n",
            " conv2d (Conv2D)             (None, 148, 148, 32)      896       \n",
            "                                                                 \n",
            " max_pooling2d (MaxPooling2D  (None, 74, 74, 32)       0         \n",
            " )                                                               \n",
            "                                                                 \n",
            " conv2d_1 (Conv2D)           (None, 72, 72, 64)        18496     \n",
            "                                                                 \n",
            " max_pooling2d_1 (MaxPooling  (None, 36, 36, 64)       0         \n",
            " 2D)                                                             \n",
            "                                                                 \n",
            " conv2d_2 (Conv2D)           (None, 34, 34, 128)       73856     \n",
            "                                                                 \n",
            " max_pooling2d_2 (MaxPooling  (None, 17, 17, 128)      0         \n",
            " 2D)                                                             \n",
            "                                                                 \n",
            " conv2d_3 (Conv2D)           (None, 15, 15, 128)       147584    \n",
            "                                                                 \n",
            " max_pooling2d_3 (MaxPooling  (None, 7, 7, 128)        0         \n",
            " 2D)                                                             \n",
            "                                                                 \n",
            " conv2d_4 (Conv2D)           (None, 5, 5, 128)         147584    \n",
            "                                                                 \n",
            " max_pooling2d_4 (MaxPooling  (None, 2, 2, 128)        0         \n",
            " 2D)                                                             \n",
            "                                                                 \n",
            " flatten (Flatten)           (None, 512)               0         \n",
            "                                                                 \n",
            " dense (Dense)               (None, 512)               262656    \n",
            "                                                                 \n",
            " dense_1 (Dense)             (None, 1)                 513       \n",
            "                                                                 \n",
            "=================================================================\n",
            "Total params: 651,585\n",
            "Trainable params: 651,585\n",
            "Non-trainable params: 0\n",
            "_________________________________________________________________\n"
          ]
        }
      ]
    },
    {
      "cell_type": "code",
      "metadata": {
        "id": "wgPZwRm1sBXf"
      },
      "source": [
        "from keras import optimizers"
      ],
      "execution_count": null,
      "outputs": []
    },
    {
      "cell_type": "markdown",
      "metadata": {
        "id": "uGRFUf7HAxo8"
      },
      "source": [
        "Now we compile and fit our model. Since it is a binary classification problem, we use 'binary_crossentropy' as our loss function and RMSprop as our optimizer with a learning rate of 0.0001. \n",
        "Since our data generator takes images in batches of 20, and we have 2000 training images, the number of steps per epoch should be 2000/20 = 100 "
      ]
    },
    {
      "cell_type": "code",
      "metadata": {
        "id": "aXIij8xDsH3p"
      },
      "source": [
        "from tensorflow import keras\n",
        "from keras import optimizers\n",
        "model.compile(loss='binary_crossentropy',\n",
        "optimizer=keras.optimizers.RMSprop(learning_rate=1e-4),\n",
        "metrics=['acc'])"
      ],
      "execution_count": null,
      "outputs": []
    },
    {
      "cell_type": "code",
      "metadata": {
        "id": "SWXE1aCOyiHI",
        "colab": {
          "base_uri": "https://localhost:8080/"
        },
        "outputId": "d7ef3a86-50a9-4518-c90a-433cab035ba3"
      },
      "source": [
        "result = model.fit(\n",
        "train_generator,\n",
        "steps_per_epoch=100,\n",
        "epochs=40,\n",
        "validation_data=validation_generator,\n",
        "validation_steps=50)"
      ],
      "execution_count": null,
      "outputs": [
        {
          "output_type": "stream",
          "name": "stdout",
          "text": [
            "Epoch 1/40\n",
            "100/100 [==============================] - 22s 91ms/step - loss: 0.6926 - acc: 0.5080 - val_loss: 0.6887 - val_acc: 0.5470\n",
            "Epoch 2/40\n",
            "100/100 [==============================] - 9s 94ms/step - loss: 0.6831 - acc: 0.5570 - val_loss: 0.6709 - val_acc: 0.5840\n",
            "Epoch 3/40\n",
            "100/100 [==============================] - 9s 91ms/step - loss: 0.6663 - acc: 0.5980 - val_loss: 0.6663 - val_acc: 0.5800\n",
            "Epoch 4/40\n",
            "100/100 [==============================] - 9s 94ms/step - loss: 0.6439 - acc: 0.6215 - val_loss: 0.6372 - val_acc: 0.6240\n",
            "Epoch 5/40\n",
            "100/100 [==============================] - 9s 91ms/step - loss: 0.6198 - acc: 0.6530 - val_loss: 0.6249 - val_acc: 0.6430\n",
            "Epoch 6/40\n",
            "100/100 [==============================] - 10s 96ms/step - loss: 0.5827 - acc: 0.6980 - val_loss: 0.6257 - val_acc: 0.6410\n",
            "Epoch 7/40\n",
            "100/100 [==============================] - 9s 90ms/step - loss: 0.5622 - acc: 0.7070 - val_loss: 0.6135 - val_acc: 0.6620\n",
            "Epoch 8/40\n",
            "100/100 [==============================] - 9s 90ms/step - loss: 0.5494 - acc: 0.7130 - val_loss: 0.6216 - val_acc: 0.6490\n",
            "Epoch 9/40\n",
            "100/100 [==============================] - 9s 90ms/step - loss: 0.5292 - acc: 0.7215 - val_loss: 0.6052 - val_acc: 0.6660\n",
            "Epoch 10/40\n",
            "100/100 [==============================] - 9s 90ms/step - loss: 0.5180 - acc: 0.7385 - val_loss: 0.5953 - val_acc: 0.6820\n",
            "Epoch 11/40\n",
            "100/100 [==============================] - 9s 90ms/step - loss: 0.5001 - acc: 0.7450 - val_loss: 0.6639 - val_acc: 0.6310\n",
            "Epoch 12/40\n",
            "100/100 [==============================] - 9s 91ms/step - loss: 0.4884 - acc: 0.7520 - val_loss: 0.6655 - val_acc: 0.6670\n",
            "Epoch 13/40\n",
            "100/100 [==============================] - 9s 91ms/step - loss: 0.4598 - acc: 0.7735 - val_loss: 0.6065 - val_acc: 0.6930\n",
            "Epoch 14/40\n",
            "100/100 [==============================] - 9s 91ms/step - loss: 0.4611 - acc: 0.7780 - val_loss: 0.5802 - val_acc: 0.7010\n",
            "Epoch 15/40\n",
            "100/100 [==============================] - 9s 90ms/step - loss: 0.4296 - acc: 0.8070 - val_loss: 0.5615 - val_acc: 0.7030\n",
            "Epoch 16/40\n",
            "100/100 [==============================] - 9s 91ms/step - loss: 0.4154 - acc: 0.8080 - val_loss: 0.5602 - val_acc: 0.7140\n",
            "Epoch 17/40\n",
            "100/100 [==============================] - 9s 90ms/step - loss: 0.4048 - acc: 0.8045 - val_loss: 0.5695 - val_acc: 0.7140\n",
            "Epoch 18/40\n",
            "100/100 [==============================] - 9s 91ms/step - loss: 0.3845 - acc: 0.8300 - val_loss: 0.5697 - val_acc: 0.7240\n",
            "Epoch 19/40\n",
            "100/100 [==============================] - 9s 91ms/step - loss: 0.3646 - acc: 0.8380 - val_loss: 0.5528 - val_acc: 0.7300\n",
            "Epoch 20/40\n",
            "100/100 [==============================] - 9s 92ms/step - loss: 0.3439 - acc: 0.8485 - val_loss: 0.6006 - val_acc: 0.7090\n",
            "Epoch 21/40\n",
            "100/100 [==============================] - 9s 91ms/step - loss: 0.3262 - acc: 0.8630 - val_loss: 0.7175 - val_acc: 0.6740\n",
            "Epoch 22/40\n",
            "100/100 [==============================] - 11s 114ms/step - loss: 0.3144 - acc: 0.8610 - val_loss: 0.5809 - val_acc: 0.7300\n",
            "Epoch 23/40\n",
            "100/100 [==============================] - 9s 91ms/step - loss: 0.2839 - acc: 0.8780 - val_loss: 0.6733 - val_acc: 0.7070\n",
            "Epoch 24/40\n",
            "100/100 [==============================] - 9s 91ms/step - loss: 0.2681 - acc: 0.8880 - val_loss: 0.5732 - val_acc: 0.7460\n",
            "Epoch 25/40\n",
            "100/100 [==============================] - 9s 90ms/step - loss: 0.2394 - acc: 0.9030 - val_loss: 0.6471 - val_acc: 0.7280\n",
            "Epoch 26/40\n",
            "100/100 [==============================] - 9s 90ms/step - loss: 0.2275 - acc: 0.9100 - val_loss: 0.5930 - val_acc: 0.7370\n",
            "Epoch 27/40\n",
            "100/100 [==============================] - 9s 89ms/step - loss: 0.2016 - acc: 0.9225 - val_loss: 0.7867 - val_acc: 0.6830\n",
            "Epoch 28/40\n",
            "100/100 [==============================] - 9s 89ms/step - loss: 0.1886 - acc: 0.9275 - val_loss: 0.6900 - val_acc: 0.7220\n",
            "Epoch 29/40\n",
            "100/100 [==============================] - 9s 89ms/step - loss: 0.1665 - acc: 0.9430 - val_loss: 0.6610 - val_acc: 0.7410\n",
            "Epoch 30/40\n",
            "100/100 [==============================] - 9s 91ms/step - loss: 0.1506 - acc: 0.9480 - val_loss: 0.6937 - val_acc: 0.7420\n",
            "Epoch 31/40\n",
            "100/100 [==============================] - 9s 90ms/step - loss: 0.1373 - acc: 0.9515 - val_loss: 0.6822 - val_acc: 0.7400\n",
            "Epoch 32/40\n",
            "100/100 [==============================] - 9s 89ms/step - loss: 0.1180 - acc: 0.9605 - val_loss: 0.8145 - val_acc: 0.7100\n",
            "Epoch 33/40\n",
            "100/100 [==============================] - 9s 89ms/step - loss: 0.1037 - acc: 0.9685 - val_loss: 0.7447 - val_acc: 0.7430\n",
            "Epoch 34/40\n",
            "100/100 [==============================] - 10s 96ms/step - loss: 0.0932 - acc: 0.9670 - val_loss: 0.8917 - val_acc: 0.7100\n",
            "Epoch 35/40\n",
            "100/100 [==============================] - 9s 88ms/step - loss: 0.0790 - acc: 0.9725 - val_loss: 0.7944 - val_acc: 0.7380\n",
            "Epoch 36/40\n",
            "100/100 [==============================] - 9s 88ms/step - loss: 0.0690 - acc: 0.9790 - val_loss: 0.8564 - val_acc: 0.7370\n",
            "Epoch 37/40\n",
            "100/100 [==============================] - 9s 89ms/step - loss: 0.0584 - acc: 0.9850 - val_loss: 0.8829 - val_acc: 0.7280\n",
            "Epoch 38/40\n",
            "100/100 [==============================] - 9s 89ms/step - loss: 0.0515 - acc: 0.9845 - val_loss: 0.9491 - val_acc: 0.7350\n",
            "Epoch 39/40\n",
            "100/100 [==============================] - 9s 89ms/step - loss: 0.0385 - acc: 0.9920 - val_loss: 0.9908 - val_acc: 0.7320\n",
            "Epoch 40/40\n",
            "100/100 [==============================] - 9s 88ms/step - loss: 0.0371 - acc: 0.9910 - val_loss: 0.9593 - val_acc: 0.7350\n"
          ]
        }
      ]
    },
    {
      "cell_type": "markdown",
      "metadata": {
        "id": "k3WksWPvUDAY"
      },
      "source": [
        "Let's visualise these results using matplotlib.\n"
      ]
    },
    {
      "cell_type": "code",
      "metadata": {
        "id": "oa9IDpBXyzQp"
      },
      "source": [
        "import matplotlib.pyplot as plt"
      ],
      "execution_count": null,
      "outputs": []
    },
    {
      "cell_type": "code",
      "metadata": {
        "id": "YjFv_zJsDce7",
        "colab": {
          "base_uri": "https://localhost:8080/",
          "height": 541
        },
        "outputId": "a4081c42-3651-4eba-ea99-4e3c6cb09694"
      },
      "source": [
        "acc = result.history['acc']\n",
        "loss = result.history['loss']\n",
        "validation_acc = result.history['val_acc']\n",
        "validation_loss = result.history['val_loss']\n",
        "\n",
        "x = range(1,len(acc)+1)\n",
        "\n",
        "plt.plot(x,acc,'x-b',label = 'Training Accuracy')\n",
        "plt.plot(x,validation_acc,'o-m',label = 'Validation Accuracy')\n",
        "plt.xlabel('Epochs')\n",
        "plt.ylabel('Accuracy')\n",
        "plt.legend()\n",
        "plt.figure()\n",
        "plt.plot(x,loss,'x-b',label = 'Training Loss')\n",
        "plt.plot(x,validation_loss,'o-m',label = 'Validation Loss')\n",
        "plt.xlabel('Epochs')\n",
        "plt.ylabel('Loss')\n",
        "plt.legend()\n",
        "plt.show()"
      ],
      "execution_count": null,
      "outputs": [
        {
          "output_type": "display_data",
          "data": {
            "text/plain": [
              "<Figure size 432x288 with 1 Axes>"
            ],
            "image/png": "[encoded data removed]"
          },
          "metadata": {
            "needs_background": "light"
          }
        },
        {
          "output_type": "display_data",
          "data": {
            "text/plain": [
              "<Figure size 432x288 with 1 Axes>"
            ],
            "image/png": "[encoded data removed]"
          },
          "metadata": {
            "needs_background": "light"
          }
        }
      ]
    },
    {
      "cell_type": "markdown",
      "metadata": {
        "id": "DJq6neKvUMl9"
      },
      "source": [
        "As we can see, the training accuracy increases linearly until it reaches close to 100% whereas the validation accuracy stalls close to 70%. \n",
        "\n",
        "Similary, the training loss falls with every epoch while the validation loss reaches it's minimum somewhere between the 6th-8th epoch, after which it starts increasing.\n",
        "\n",
        "These plots are characteristic of intense overfitting. This is to be expected since our dataset is so small, comprising of only 2000 training images. It's 10% of the original dataset from Kaggle, which contains 20000 training images. "
      ]
    },
    {
      "cell_type": "markdown",
      "metadata": {
        "id": "x21JX14HVW_s"
      },
      "source": [
        "#Data Augmentation \n",
        "We tackle this intense overfitting by using data augmentation. Data augmentation refers to generating more training data from existing data by applying a transformation to the original images such that the result is also the same category of image. \n",
        "\n",
        "\n"
      ]
    },
    {
      "cell_type": "code",
      "metadata": {
        "id": "fkzYDNOmPzFG"
      },
      "source": [
        "train_datagen = ImageDataGenerator(rescale = 1./255,\n",
        "                                   horizontal_flip = True,\n",
        "                                   rotation_range = 40,\n",
        "                                   width_shift_range = 0.2,\n",
        "                                   height_shift_range = 0.2,\n",
        "                                   shear_range = 0.2,\n",
        "                                   zoom_range = 0.2,\n",
        "                                   fill_mode = 'nearest')"
      ],
      "execution_count": null,
      "outputs": []
    },
    {
      "cell_type": "code",
      "metadata": {
        "id": "pbakncXfbdK2",
        "colab": {
          "base_uri": "https://localhost:8080/"
        },
        "outputId": "e7062f56-9106-4e98-a384-479146abe32e"
      },
      "source": [
        "train_generator_with_aug = train_datagen.flow_from_directory(train_directory,\n",
        "                                                    batch_size = 20,\n",
        "                                                    target_size = (150,150),\n",
        "                                                    class_mode = 'binary')\n",
        "\n",
        "validation_generator = datagen.flow_from_directory(validation_directory,\n",
        "                                                   batch_size = 20,\n",
        "                                                   target_size = (150,150),\n",
        "                                                   class_mode = 'binary')\n",
        "\n",
        "result_aug = model.fit(train_generator_with_aug,\n",
        "                       steps_per_epoch = 100,\n",
        "                       epochs =50,\n",
        "                       validation_data = validation_generator,\n",
        "                       validation_steps = 50)"
      ],
      "execution_count": null,
      "outputs": [
        {
          "output_type": "stream",
          "name": "stdout",
          "text": [
            "Found 2000 images belonging to 2 classes.\n",
            "Found 1000 images belonging to 2 classes.\n",
            "Epoch 1/50\n",
            "100/100 [==============================] - 17s 171ms/step - loss: 0.8067 - acc: 0.6835 - val_loss: 0.6501 - val_acc: 0.6800\n",
            "Epoch 2/50\n",
            "100/100 [==============================] - 17s 170ms/step - loss: 0.6075 - acc: 0.6895 - val_loss: 0.5967 - val_acc: 0.6900\n",
            "Epoch 3/50\n",
            "100/100 [==============================] - 17s 170ms/step - loss: 0.5708 - acc: 0.7055 - val_loss: 0.5162 - val_acc: 0.7500\n",
            "Epoch 4/50\n",
            "100/100 [==============================] - 17s 171ms/step - loss: 0.5635 - acc: 0.7100 - val_loss: 0.5473 - val_acc: 0.7230\n",
            "Epoch 5/50\n",
            "100/100 [==============================] - 17s 171ms/step - loss: 0.5429 - acc: 0.7335 - val_loss: 0.5198 - val_acc: 0.7400\n",
            "Epoch 6/50\n",
            "100/100 [==============================] - 17s 170ms/step - loss: 0.5513 - acc: 0.7245 - val_loss: 0.5456 - val_acc: 0.7310\n",
            "Epoch 7/50\n",
            "100/100 [==============================] - 17s 170ms/step - loss: 0.5341 - acc: 0.7290 - val_loss: 0.5085 - val_acc: 0.7500\n",
            "Epoch 8/50\n",
            "100/100 [==============================] - 17s 170ms/step - loss: 0.5310 - acc: 0.7300 - val_loss: 0.5750 - val_acc: 0.7230\n",
            "Epoch 9/50\n",
            "100/100 [==============================] - 17s 170ms/step - loss: 0.5199 - acc: 0.7445 - val_loss: 0.5569 - val_acc: 0.7150\n",
            "Epoch 10/50\n",
            "100/100 [==============================] - 17s 170ms/step - loss: 0.5130 - acc: 0.7420 - val_loss: 0.4971 - val_acc: 0.7600\n",
            "Epoch 11/50\n",
            "100/100 [==============================] - 17s 170ms/step - loss: 0.5193 - acc: 0.7410 - val_loss: 0.5216 - val_acc: 0.7350\n",
            "Epoch 12/50\n",
            "100/100 [==============================] - 17s 171ms/step - loss: 0.5163 - acc: 0.7500 - val_loss: 0.4987 - val_acc: 0.7550\n",
            "Epoch 13/50\n",
            "100/100 [==============================] - 17s 172ms/step - loss: 0.5072 - acc: 0.7555 - val_loss: 0.5469 - val_acc: 0.7410\n",
            "Epoch 14/50\n",
            "100/100 [==============================] - 18s 178ms/step - loss: 0.5073 - acc: 0.7470 - val_loss: 0.5112 - val_acc: 0.7510\n",
            "Epoch 15/50\n",
            "100/100 [==============================] - 17s 170ms/step - loss: 0.5028 - acc: 0.7560 - val_loss: 0.5038 - val_acc: 0.7520\n",
            "Epoch 16/50\n",
            "100/100 [==============================] - 17s 172ms/step - loss: 0.4839 - acc: 0.7645 - val_loss: 0.5047 - val_acc: 0.7700\n",
            "Epoch 17/50\n",
            "100/100 [==============================] - 17s 170ms/step - loss: 0.5065 - acc: 0.7570 - val_loss: 0.4873 - val_acc: 0.7580\n",
            "Epoch 18/50\n",
            "100/100 [==============================] - 17s 171ms/step - loss: 0.4848 - acc: 0.7605 - val_loss: 0.5234 - val_acc: 0.7490\n",
            "Epoch 19/50\n",
            "100/100 [==============================] - 17s 170ms/step - loss: 0.4880 - acc: 0.7635 - val_loss: 0.4844 - val_acc: 0.7680\n",
            "Epoch 20/50\n",
            "100/100 [==============================] - 17s 171ms/step - loss: 0.4853 - acc: 0.7570 - val_loss: 0.4919 - val_acc: 0.7460\n",
            "Epoch 21/50\n",
            "100/100 [==============================] - 17s 171ms/step - loss: 0.4862 - acc: 0.7575 - val_loss: 0.4551 - val_acc: 0.7890\n",
            "Epoch 22/50\n",
            "100/100 [==============================] - 17s 172ms/step - loss: 0.4877 - acc: 0.7635 - val_loss: 0.5197 - val_acc: 0.7350\n",
            "Epoch 23/50\n",
            "100/100 [==============================] - 17s 171ms/step - loss: 0.4608 - acc: 0.7805 - val_loss: 0.5335 - val_acc: 0.7440\n",
            "Epoch 24/50\n",
            "100/100 [==============================] - 17s 170ms/step - loss: 0.4734 - acc: 0.7745 - val_loss: 0.5440 - val_acc: 0.7350\n",
            "Epoch 25/50\n",
            "100/100 [==============================] - 17s 170ms/step - loss: 0.4821 - acc: 0.7670 - val_loss: 0.5085 - val_acc: 0.7430\n",
            "Epoch 26/50\n",
            "100/100 [==============================] - 17s 172ms/step - loss: 0.4921 - acc: 0.7610 - val_loss: 0.4784 - val_acc: 0.7520\n",
            "Epoch 27/50\n",
            "100/100 [==============================] - 17s 170ms/step - loss: 0.4663 - acc: 0.7805 - val_loss: 0.4674 - val_acc: 0.7700\n",
            "Epoch 28/50\n",
            "100/100 [==============================] - 17s 171ms/step - loss: 0.4573 - acc: 0.7830 - val_loss: 0.4992 - val_acc: 0.7400\n",
            "Epoch 29/50\n",
            "100/100 [==============================] - 17s 172ms/step - loss: 0.4566 - acc: 0.7750 - val_loss: 0.6609 - val_acc: 0.7000\n",
            "Epoch 30/50\n",
            "100/100 [==============================] - 17s 172ms/step - loss: 0.4617 - acc: 0.7790 - val_loss: 0.6328 - val_acc: 0.6920\n",
            "Epoch 31/50\n",
            "100/100 [==============================] - 17s 173ms/step - loss: 0.4547 - acc: 0.7910 - val_loss: 0.4658 - val_acc: 0.7620\n",
            "Epoch 32/50\n",
            "100/100 [==============================] - 17s 172ms/step - loss: 0.4414 - acc: 0.7985 - val_loss: 0.6879 - val_acc: 0.6900\n",
            "Epoch 33/50\n",
            "100/100 [==============================] - 18s 181ms/step - loss: 0.4499 - acc: 0.7845 - val_loss: 0.4478 - val_acc: 0.7770\n",
            "Epoch 34/50\n",
            "100/100 [==============================] - 17s 171ms/step - loss: 0.4437 - acc: 0.7915 - val_loss: 0.4479 - val_acc: 0.7770\n",
            "Epoch 35/50\n",
            "100/100 [==============================] - 17s 171ms/step - loss: 0.4475 - acc: 0.7795 - val_loss: 0.4605 - val_acc: 0.7800\n",
            "Epoch 36/50\n",
            "100/100 [==============================] - 17s 171ms/step - loss: 0.4397 - acc: 0.7925 - val_loss: 0.4632 - val_acc: 0.7690\n",
            "Epoch 37/50\n",
            "100/100 [==============================] - 17s 171ms/step - loss: 0.4567 - acc: 0.7940 - val_loss: 0.4602 - val_acc: 0.7700\n",
            "Epoch 38/50\n",
            "100/100 [==============================] - 17s 171ms/step - loss: 0.4237 - acc: 0.8025 - val_loss: 0.4478 - val_acc: 0.7730\n",
            "Epoch 39/50\n",
            "100/100 [==============================] - 17s 170ms/step - loss: 0.4464 - acc: 0.7985 - val_loss: 0.4952 - val_acc: 0.7660\n",
            "Epoch 40/50\n",
            "100/100 [==============================] - 17s 172ms/step - loss: 0.4372 - acc: 0.7925 - val_loss: 0.4723 - val_acc: 0.7740\n",
            "Epoch 41/50\n",
            "100/100 [==============================] - 17s 171ms/step - loss: 0.4307 - acc: 0.7945 - val_loss: 0.4839 - val_acc: 0.7660\n",
            "Epoch 42/50\n",
            "100/100 [==============================] - 17s 172ms/step - loss: 0.4311 - acc: 0.7950 - val_loss: 0.4695 - val_acc: 0.7770\n",
            "Epoch 43/50\n",
            "100/100 [==============================] - 17s 170ms/step - loss: 0.4229 - acc: 0.8040 - val_loss: 0.4276 - val_acc: 0.7970\n",
            "Epoch 44/50\n",
            "100/100 [==============================] - 17s 172ms/step - loss: 0.4216 - acc: 0.8050 - val_loss: 0.4220 - val_acc: 0.7910\n",
            "Epoch 45/50\n",
            "100/100 [==============================] - 17s 172ms/step - loss: 0.4345 - acc: 0.7935 - val_loss: 0.4932 - val_acc: 0.7650\n",
            "Epoch 46/50\n",
            "100/100 [==============================] - 17s 172ms/step - loss: 0.4113 - acc: 0.8075 - val_loss: 0.4455 - val_acc: 0.7920\n",
            "Epoch 47/50\n",
            "100/100 [==============================] - 17s 170ms/step - loss: 0.4211 - acc: 0.7970 - val_loss: 0.4229 - val_acc: 0.8070\n",
            "Epoch 48/50\n",
            "100/100 [==============================] - 17s 170ms/step - loss: 0.4076 - acc: 0.8045 - val_loss: 0.5450 - val_acc: 0.7630\n",
            "Epoch 49/50\n",
            "100/100 [==============================] - 17s 171ms/step - loss: 0.4260 - acc: 0.8010 - val_loss: 0.4059 - val_acc: 0.8020\n",
            "Epoch 50/50\n",
            "100/100 [==============================] - 17s 171ms/step - loss: 0.4190 - acc: 0.7985 - val_loss: 0.4994 - val_acc: 0.7710\n"
          ]
        }
      ]
    },
    {
      "cell_type": "code",
      "metadata": {
        "id": "licFQw32cQ4f",
        "colab": {
          "base_uri": "https://localhost:8080/",
          "height": 541
        },
        "outputId": "927aafe8-f5fb-4baa-9b38-fd36434cf705"
      },
      "source": [
        "acc = result_aug.history['acc']\n",
        "loss = result_aug.history['loss']\n",
        "validation_acc = result_aug.history['val_acc']\n",
        "validation_loss = result_aug.history['val_loss']\n",
        "\n",
        "x = range(1,len(acc)+1)\n",
        "\n",
        "plt.plot(x,acc,'x-b',label = 'Training Accuracy')\n",
        "plt.plot(x,validation_acc,'o-m',label = 'Validation Accuracy')\n",
        "plt.xlabel('Epochs')\n",
        "plt.ylabel('Accuracy')\n",
        "plt.legend()\n",
        "plt.figure()\n",
        "plt.plot(x,loss,'x-b',label = 'Training Loss')\n",
        "plt.plot(x,validation_loss,'o-m',label = 'Validation Loss')\n",
        "plt.xlabel('Epochs')\n",
        "plt.ylabel('Loss')\n",
        "plt.legend()\n",
        "plt.show()"
      ],
      "execution_count": null,
      "outputs": [
        {
          "output_type": "display_data",
          "data": {
            "text/plain": [
              "<Figure size 432x288 with 1 Axes>"
            ],
            "image/png": "[encoded data removed]"
          },
          "metadata": {
            "needs_background": "light"
          }
        },
        {
          "output_type": "display_data",
          "data": {
            "text/plain": [
              "<Figure size 432x288 with 1 Axes>"
            ],
            "image/png": "[encoded data removed]"
          },
          "metadata": {
            "needs_background": "light"
          }
        }
      ]
    },
    {
      "cell_type": "markdown",
      "metadata": {
        "id": "4Nq7qiTHJYM2"
      },
      "source": [
        "Clearly, we are no longer overfitting because of a larger training sample due to data augmentation. The validation curves are closely tracking the training curves for the most part, with some hiccups in between.\n",
        "\n",
        "The accuracy reaches to about 82%, which is almost a 17% increase from our previous accuracy without augmentation."
      ]
    },
    {
      "cell_type": "markdown",
      "metadata": {
        "id": "8GUoEOXrKZJO"
      },
      "source": [
        "#Using a Pre-Trained Model (Feature Extraction)\n",
        "We can further improve our accuracy by using a pretrained model such as ResNet50, VGG16, VGG19, etc. \n",
        "Each convolutional neural network has two parts : \n",
        "\n",
        "1. The **convulational base** consisting of the pooling and convolutional layers. \n",
        "2. The **densely connected classifier** that sits on top of the convolutional base\n",
        "\n",
        "We just need to take the convulational base of the pre-trained network and add it on top of our classifier.\n",
        "The patterns and features learned by the convolutional base are more generic and hence more reusable. The classifier, on the other hand, recognises and learns local patterns in the dataset. Hence, we avoid using the classifier of the pretrained model and use only the convolutional base instead.\n",
        "\n"
      ]
    },
    {
      "cell_type": "markdown",
      "metadata": {
        "id": "MQAd4WYbM0dh"
      },
      "source": [
        "The VGG16 model was trained on the ImageNet dataset which contains many images of dogs and cats, so we can use the classifier as well. But to have a more generic model, we won't use it and build our own classifier."
      ]
    },
    {
      "cell_type": "code",
      "metadata": {
        "id": "5LEW-TLVKRel"
      },
      "source": [
        "#from tensorflow.keras.applications.vgg16 import VGG\n",
        "from tensorflow.keras.applications import VGG16"
      ],
      "execution_count": null,
      "outputs": []
    },
    {
      "cell_type": "code",
      "metadata": {
        "id": "tqUesKetNN6c",
        "colab": {
          "base_uri": "https://localhost:8080/"
        },
        "outputId": "2f673dd4-d45a-4079-8884-5967339746c1"
      },
      "source": [
        "vgg16_base = VGG16(include_top = False,\n",
        "                   weights = 'imagenet',\n",
        "                   input_shape = (150,150,3))"
      ],
      "execution_count": null,
      "outputs": [
        {
          "output_type": "stream",
          "name": "stdout",
          "text": [
            "Downloading data from https://storage.googleapis.com/tensorflow/keras-applications/vgg16/vgg16_weights_tf_dim_ordering_tf_kernels_notop.h5\n",
            "58892288/58889256 [==============================] - 0s 0us/step\n",
            "58900480/58889256 [==============================] - 0s 0us/step\n"
          ]
        }
      ]
    },
    {
      "cell_type": "code",
      "metadata": {
        "id": "9a_uzrqxNbOE",
        "colab": {
          "base_uri": "https://localhost:8080/"
        },
        "outputId": "17c62267-2345-43e5-9c99-3b15e0314780"
      },
      "source": [
        "vgg16_base.summary()"
      ],
      "execution_count": null,
      "outputs": [
        {
          "output_type": "stream",
          "name": "stdout",
          "text": [
            "Model: \"vgg16\"\n",
            "_________________________________________________________________\n",
            " Layer (type)                Output Shape              Param #   \n",
            "=================================================================\n",
            " input_1 (InputLayer)        [(None, 150, 150, 3)]     0         \n",
            "                                                                 \n",
            " block1_conv1 (Conv2D)       (None, 150, 150, 64)      1792      \n",
            "                                                                 \n",
            " block1_conv2 (Conv2D)       (None, 150, 150, 64)      36928     \n",
            "                                                                 \n",
            " block1_pool (MaxPooling2D)  (None, 75, 75, 64)        0         \n",
            "                                                                 \n",
            " block2_conv1 (Conv2D)       (None, 75, 75, 128)       73856     \n",
            "                                                                 \n",
            " block2_conv2 (Conv2D)       (None, 75, 75, 128)       147584    \n",
            "                                                                 \n",
            " block2_pool (MaxPooling2D)  (None, 37, 37, 128)       0         \n",
            "                                                                 \n",
            " block3_conv1 (Conv2D)       (None, 37, 37, 256)       295168    \n",
            "                                                                 \n",
            " block3_conv2 (Conv2D)       (None, 37, 37, 256)       590080    \n",
            "                                                                 \n",
            " block3_conv3 (Conv2D)       (None, 37, 37, 256)       590080    \n",
            "                                                                 \n",
            " block3_pool (MaxPooling2D)  (None, 18, 18, 256)       0         \n",
            "                                                                 \n",
            " block4_conv1 (Conv2D)       (None, 18, 18, 512)       1180160   \n",
            "                                                                 \n",
            " block4_conv2 (Conv2D)       (None, 18, 18, 512)       2359808   \n",
            "                                                                 \n",
            " block4_conv3 (Conv2D)       (None, 18, 18, 512)       2359808   \n",
            "                                                                 \n",
            " block4_pool (MaxPooling2D)  (None, 9, 9, 512)         0         \n",
            "                                                                 \n",
            " block5_conv1 (Conv2D)       (None, 9, 9, 512)         2359808   \n",
            "                                                                 \n",
            " block5_conv2 (Conv2D)       (None, 9, 9, 512)         2359808   \n",
            "                                                                 \n",
            " block5_conv3 (Conv2D)       (None, 9, 9, 512)         2359808   \n",
            "                                                                 \n",
            " block5_pool (MaxPooling2D)  (None, 4, 4, 512)         0         \n",
            "                                                                 \n",
            "=================================================================\n",
            "Total params: 14,714,688\n",
            "Trainable params: 14,714,688\n",
            "Non-trainable params: 0\n",
            "_________________________________________________________________\n"
          ]
        }
      ]
    },
    {
      "cell_type": "markdown",
      "metadata": {
        "id": "wUy8IB-tlCiY"
      },
      "source": [
        "Before compiling and training the model, we have to freeze the convolutional base. If we don't do this, the patterns that were previously learned by the model would be updated during the training. "
      ]
    },
    {
      "cell_type": "code",
      "metadata": {
        "id": "S7RHrdwtNgkA"
      },
      "source": [
        "#Freezing the convoutional base\n",
        "vgg16_base.trainable = False"
      ],
      "execution_count": null,
      "outputs": []
    },
    {
      "cell_type": "code",
      "metadata": {
        "id": "nhELX2R1NwtO"
      },
      "source": [
        "new_model = models.Sequential()\n",
        "new_model.add(vgg16_base)\n",
        "new_model.add(layers.Flatten())\n",
        "new_model.add(layers.Dense(256,activation = 'relu'))\n",
        "new_model.add(layers.Dense(1,activation = 'sigmoid'))"
      ],
      "execution_count": null,
      "outputs": []
    },
    {
      "cell_type": "code",
      "metadata": {
        "id": "LqdevTufOFpb",
        "colab": {
          "base_uri": "https://localhost:8080/"
        },
        "outputId": "aeb3c19b-1b6a-4602-fcd9-5008208772f4"
      },
      "source": [
        "new_model.summary()"
      ],
      "execution_count": null,
      "outputs": [
        {
          "output_type": "stream",
          "name": "stdout",
          "text": [
            "Model: \"sequential_1\"\n",
            "_________________________________________________________________\n",
            " Layer (type)                Output Shape              Param #   \n",
            "=================================================================\n",
            " vgg16 (Functional)          (None, 4, 4, 512)         14714688  \n",
            "                                                                 \n",
            " flatten_1 (Flatten)         (None, 8192)              0         \n",
            "                                                                 \n",
            " dense_2 (Dense)             (None, 256)               2097408   \n",
            "                                                                 \n",
            " dense_3 (Dense)             (None, 1)                 257       \n",
            "                                                                 \n",
            "=================================================================\n",
            "Total params: 16,812,353\n",
            "Trainable params: 2,097,665\n",
            "Non-trainable params: 14,714,688\n",
            "_________________________________________________________________\n"
          ]
        }
      ]
    },
    {
      "cell_type": "code",
      "metadata": {
        "id": "AeDr6zcXRibD"
      },
      "source": [
        "new_model.compile(optimizer = keras.optimizers.RMSprop( learning_rate= 2e-5),\n",
        "                  loss = 'binary_crossentropy',\n",
        "                  metrics = 'acc')"
      ],
      "execution_count": null,
      "outputs": []
    },
    {
      "cell_type": "code",
      "metadata": {
        "id": "yykCPYS1VMod",
        "colab": {
          "base_uri": "https://localhost:8080/"
        },
        "outputId": "64023594-f7a9-47c1-a1db-b7edfc43f88d"
      },
      "source": [
        "train_datagen = ImageDataGenerator(rescale = 1./255,\n",
        "                                   horizontal_flip = True,\n",
        "                                   rotation_range = 40,\n",
        "                                   width_shift_range = 0.2,\n",
        "                                   height_shift_range = 0.2,\n",
        "                                   shear_range = 0.2,\n",
        "                                   zoom_range = 0.2,\n",
        "                                   fill_mode = 'nearest')\n",
        "\n",
        "train_generator_vgg16 = train_datagen.flow_from_directory(train_directory, \n",
        "                                                          target_size = (150,150),\n",
        "                                                          batch_size = 20,\n",
        "                                                          class_mode = 'binary')\n",
        "\n",
        "validation_generator = datagen.flow_from_directory(validation_directory,\n",
        "                                                   target_size = (150,150),\n",
        "                                                   batch_size = 20,\n",
        "                                                   class_mode = 'binary')"
      ],
      "execution_count": null,
      "outputs": [
        {
          "output_type": "stream",
          "name": "stdout",
          "text": [
            "Found 2000 images belonging to 2 classes.\n",
            "Found 1000 images belonging to 2 classes.\n"
          ]
        }
      ]
    },
    {
      "cell_type": "code",
      "metadata": {
        "id": "XNcElQviOHKv",
        "colab": {
          "base_uri": "https://localhost:8080/"
        },
        "outputId": "496d3c62-828c-495a-ee8c-103379ccd9fe"
      },
      "source": [
        "result_vgg16 = new_model.fit(train_generator_vgg16,\n",
        "                       steps_per_epoch = 100,\n",
        "                       epochs =50,\n",
        "                       validation_data = validation_generator,\n",
        "                       validation_steps = 50)"
      ],
      "execution_count": null,
      "outputs": [
        {
          "output_type": "stream",
          "name": "stdout",
          "text": [
            "Epoch 1/50\n",
            "100/100 [==============================] - 22s 194ms/step - loss: 0.5945 - acc: 0.6820 - val_loss: 0.4846 - val_acc: 0.7780\n",
            "Epoch 2/50\n",
            "100/100 [==============================] - 19s 194ms/step - loss: 0.4972 - acc: 0.7735 - val_loss: 0.3840 - val_acc: 0.8470\n",
            "Epoch 3/50\n",
            "100/100 [==============================] - 21s 210ms/step - loss: 0.4347 - acc: 0.8110 - val_loss: 0.3386 - val_acc: 0.8680\n",
            "Epoch 4/50\n",
            "100/100 [==============================] - 19s 194ms/step - loss: 0.4047 - acc: 0.8215 - val_loss: 0.3189 - val_acc: 0.8750\n",
            "Epoch 5/50\n",
            "100/100 [==============================] - 19s 192ms/step - loss: 0.3898 - acc: 0.8275 - val_loss: 0.3094 - val_acc: 0.8710\n",
            "Epoch 6/50\n",
            "100/100 [==============================] - 19s 191ms/step - loss: 0.3798 - acc: 0.8400 - val_loss: 0.2877 - val_acc: 0.8850\n",
            "Epoch 7/50\n",
            "100/100 [==============================] - 19s 191ms/step - loss: 0.3581 - acc: 0.8455 - val_loss: 0.2816 - val_acc: 0.8860\n",
            "Epoch 8/50\n",
            "100/100 [==============================] - 19s 191ms/step - loss: 0.3573 - acc: 0.8380 - val_loss: 0.2735 - val_acc: 0.8870\n",
            "Epoch 9/50\n",
            "100/100 [==============================] - 19s 194ms/step - loss: 0.3481 - acc: 0.8500 - val_loss: 0.2681 - val_acc: 0.8920\n",
            "Epoch 10/50\n",
            "100/100 [==============================] - 19s 192ms/step - loss: 0.3364 - acc: 0.8565 - val_loss: 0.2659 - val_acc: 0.8970\n",
            "Epoch 11/50\n",
            "100/100 [==============================] - 19s 192ms/step - loss: 0.3428 - acc: 0.8470 - val_loss: 0.2621 - val_acc: 0.8980\n",
            "Epoch 12/50\n",
            "100/100 [==============================] - 19s 193ms/step - loss: 0.3267 - acc: 0.8540 - val_loss: 0.2578 - val_acc: 0.8920\n",
            "Epoch 13/50\n",
            "100/100 [==============================] - 19s 192ms/step - loss: 0.3252 - acc: 0.8575 - val_loss: 0.2542 - val_acc: 0.8940\n",
            "Epoch 14/50\n",
            "100/100 [==============================] - 19s 193ms/step - loss: 0.3203 - acc: 0.8610 - val_loss: 0.2534 - val_acc: 0.8940\n",
            "Epoch 15/50\n",
            "100/100 [==============================] - 19s 193ms/step - loss: 0.3278 - acc: 0.8490 - val_loss: 0.2539 - val_acc: 0.8910\n",
            "Epoch 16/50\n",
            "100/100 [==============================] - 20s 196ms/step - loss: 0.3097 - acc: 0.8685 - val_loss: 0.2475 - val_acc: 0.8980\n",
            "Epoch 17/50\n",
            "100/100 [==============================] - 20s 195ms/step - loss: 0.3114 - acc: 0.8615 - val_loss: 0.2666 - val_acc: 0.8860\n",
            "Epoch 18/50\n",
            "100/100 [==============================] - 20s 195ms/step - loss: 0.2996 - acc: 0.8680 - val_loss: 0.2453 - val_acc: 0.8980\n",
            "Epoch 19/50\n",
            "100/100 [==============================] - 19s 194ms/step - loss: 0.3060 - acc: 0.8645 - val_loss: 0.2422 - val_acc: 0.8980\n",
            "Epoch 20/50\n",
            "100/100 [==============================] - 19s 194ms/step - loss: 0.2974 - acc: 0.8755 - val_loss: 0.2401 - val_acc: 0.8970\n",
            "Epoch 21/50\n",
            "100/100 [==============================] - 20s 202ms/step - loss: 0.3069 - acc: 0.8650 - val_loss: 0.2432 - val_acc: 0.8980\n",
            "Epoch 22/50\n",
            "100/100 [==============================] - 19s 192ms/step - loss: 0.2980 - acc: 0.8705 - val_loss: 0.2410 - val_acc: 0.9000\n",
            "Epoch 23/50\n",
            "100/100 [==============================] - 19s 190ms/step - loss: 0.3075 - acc: 0.8555 - val_loss: 0.2382 - val_acc: 0.9010\n",
            "Epoch 24/50\n",
            "100/100 [==============================] - 19s 193ms/step - loss: 0.3096 - acc: 0.8635 - val_loss: 0.2457 - val_acc: 0.8990\n",
            "Epoch 25/50\n",
            "100/100 [==============================] - 19s 192ms/step - loss: 0.2850 - acc: 0.8810 - val_loss: 0.2420 - val_acc: 0.9010\n",
            "Epoch 26/50\n",
            "100/100 [==============================] - 19s 192ms/step - loss: 0.3031 - acc: 0.8765 - val_loss: 0.2415 - val_acc: 0.9040\n",
            "Epoch 27/50\n",
            "100/100 [==============================] - 19s 192ms/step - loss: 0.2911 - acc: 0.8785 - val_loss: 0.2469 - val_acc: 0.9030\n",
            "Epoch 28/50\n",
            "100/100 [==============================] - 19s 191ms/step - loss: 0.2903 - acc: 0.8785 - val_loss: 0.2387 - val_acc: 0.8950\n",
            "Epoch 29/50\n",
            "100/100 [==============================] - 19s 191ms/step - loss: 0.2948 - acc: 0.8720 - val_loss: 0.2430 - val_acc: 0.9000\n",
            "Epoch 30/50\n",
            "100/100 [==============================] - 19s 193ms/step - loss: 0.2839 - acc: 0.8780 - val_loss: 0.2371 - val_acc: 0.8960\n",
            "Epoch 31/50\n",
            "100/100 [==============================] - 19s 195ms/step - loss: 0.2909 - acc: 0.8675 - val_loss: 0.2358 - val_acc: 0.9010\n",
            "Epoch 32/50\n",
            "100/100 [==============================] - 19s 194ms/step - loss: 0.2869 - acc: 0.8800 - val_loss: 0.2378 - val_acc: 0.9030\n",
            "Epoch 33/50\n",
            "100/100 [==============================] - 19s 193ms/step - loss: 0.2735 - acc: 0.8845 - val_loss: 0.2390 - val_acc: 0.8990\n",
            "Epoch 34/50\n",
            "100/100 [==============================] - 19s 194ms/step - loss: 0.2854 - acc: 0.8765 - val_loss: 0.2340 - val_acc: 0.9000\n",
            "Epoch 35/50\n",
            "100/100 [==============================] - 19s 193ms/step - loss: 0.2710 - acc: 0.8870 - val_loss: 0.2362 - val_acc: 0.9000\n",
            "Epoch 36/50\n",
            "100/100 [==============================] - 19s 194ms/step - loss: 0.2722 - acc: 0.8875 - val_loss: 0.2360 - val_acc: 0.9000\n",
            "Epoch 37/50\n",
            "100/100 [==============================] - 19s 194ms/step - loss: 0.2718 - acc: 0.8830 - val_loss: 0.2409 - val_acc: 0.9030\n",
            "Epoch 38/50\n",
            "100/100 [==============================] - 20s 200ms/step - loss: 0.2716 - acc: 0.8855 - val_loss: 0.2430 - val_acc: 0.9050\n",
            "Epoch 39/50\n",
            "100/100 [==============================] - 19s 193ms/step - loss: 0.2690 - acc: 0.8800 - val_loss: 0.2445 - val_acc: 0.9060\n",
            "Epoch 40/50\n",
            "100/100 [==============================] - 19s 194ms/step - loss: 0.2727 - acc: 0.8820 - val_loss: 0.2371 - val_acc: 0.8990\n",
            "Epoch 41/50\n",
            "100/100 [==============================] - 19s 193ms/step - loss: 0.2735 - acc: 0.8870 - val_loss: 0.2415 - val_acc: 0.9030\n",
            "Epoch 42/50\n",
            "100/100 [==============================] - 19s 193ms/step - loss: 0.2795 - acc: 0.8790 - val_loss: 0.2384 - val_acc: 0.9030\n",
            "Epoch 43/50\n",
            "100/100 [==============================] - 20s 196ms/step - loss: 0.2746 - acc: 0.8850 - val_loss: 0.2481 - val_acc: 0.8990\n",
            "Epoch 44/50\n",
            "100/100 [==============================] - 20s 196ms/step - loss: 0.2619 - acc: 0.8890 - val_loss: 0.2413 - val_acc: 0.8960\n",
            "Epoch 45/50\n",
            "100/100 [==============================] - 19s 195ms/step - loss: 0.2765 - acc: 0.8785 - val_loss: 0.2399 - val_acc: 0.9030\n",
            "Epoch 46/50\n",
            "100/100 [==============================] - 19s 193ms/step - loss: 0.2740 - acc: 0.8825 - val_loss: 0.2387 - val_acc: 0.9010\n",
            "Epoch 47/50\n",
            "100/100 [==============================] - 19s 194ms/step - loss: 0.2566 - acc: 0.8940 - val_loss: 0.2522 - val_acc: 0.8990\n",
            "Epoch 48/50\n",
            "100/100 [==============================] - 19s 193ms/step - loss: 0.2672 - acc: 0.8885 - val_loss: 0.2356 - val_acc: 0.8970\n",
            "Epoch 49/50\n",
            "100/100 [==============================] - 19s 193ms/step - loss: 0.2626 - acc: 0.8985 - val_loss: 0.2365 - val_acc: 0.9010\n",
            "Epoch 50/50\n",
            "100/100 [==============================] - 19s 193ms/step - loss: 0.2546 - acc: 0.8835 - val_loss: 0.2359 - val_acc: 0.9000\n"
          ]
        }
      ]
    },
    {
      "cell_type": "code",
      "metadata": {
        "id": "FeWLkKzBRxm9",
        "colab": {
          "base_uri": "https://localhost:8080/",
          "height": 541
        },
        "outputId": "c2c09f87-3473-40f9-c191-f6e81544130f"
      },
      "source": [
        "acc = result_vgg16.history['acc']\n",
        "loss = result_vgg16.history['loss']\n",
        "validation_acc = result_vgg16.history['val_acc']\n",
        "validation_loss = result_vgg16.history['val_loss']\n",
        "\n",
        "x = range(1,len(acc)+1)\n",
        "\n",
        "plt.plot(x,acc,'x-b',label = 'Training Accuracy')\n",
        "plt.plot(x,validation_acc,'o-m',label = 'Validation Accuracy')\n",
        "plt.xlabel('Epochs')\n",
        "plt.ylabel('Accuracy')\n",
        "plt.legend()\n",
        "plt.figure()\n",
        "plt.plot(x,loss,'x-b',label = 'Training Loss')\n",
        "plt.plot(x,validation_loss,'o-m',label = 'Validation Loss')\n",
        "plt.xlabel('Epochs')\n",
        "plt.ylabel('Loss')\n",
        "plt.legend()\n",
        "plt.show()"
      ],
      "execution_count": null,
      "outputs": [
        {
          "output_type": "display_data",
          "data": {
            "text/plain": [
              "<Figure size 432x288 with 1 Axes>"
            ],
            "image/png": "[encoded data removed]"
          },
          "metadata": {
            "needs_background": "light"
          }
        },
        {
          "output_type": "display_data",
          "data": {
            "text/plain": [
              "<Figure size 432x288 with 1 Axes>"
            ],
            "image/png": "[encoded data removed]"
          },
          "metadata": {
            "needs_background": "light"
          }
        }
      ]
    },
    {
      "cell_type": "markdown",
      "metadata": {
        "id": "u4rI0Ukkw-LA"
      },
      "source": [
        "Our training accuracy reaches upto 88% while our validation accuracy reaches almost 90%. Similarly, our training loss is more than our validation loss for every epoch. That's unusual to see. \n",
        "\n",
        "Usually we see this when we apply regularization techniques to our model such as adding a dropout layer. The dropout layer gets applied to training images but not the validation images.\n",
        "\n",
        "But it is not the case here. It might be because the weights of VGG16 convolutional base recognise the patterns in validation images better than in the training images."
      ]
    },
    {
      "cell_type": "markdown",
      "metadata": {
        "id": "YpcAP1wCslKW"
      },
      "source": [
        "#Fine Tuning\n",
        "Fine tuning consists of unfreezing a few of the top layers of the convolutional base and training those layers after our classifier has already been trained. If the classifier hasn't already been trained, the patterns learned by the layers being fine-tuned will be destroyed."
      ]
    },
    {
      "cell_type": "code",
      "metadata": {
        "id": "lxxfafiDU8Bb"
      },
      "source": [
        "vgg16_base.trainable = True\n",
        "for layer in vgg16_base.layers:\n",
        "  if layer.name == 'block5_conv1':\n",
        "    break\n",
        "  layer.trainable = False"
      ],
      "execution_count": null,
      "outputs": []
    },
    {
      "cell_type": "code",
      "metadata": {
        "id": "oB1jk_e-t3lH",
        "colab": {
          "base_uri": "https://localhost:8080/"
        },
        "outputId": "f9ad87d7-36d3-4a41-df96-01e8cb6e98a1"
      },
      "source": [
        "vgg16_base.summary()"
      ],
      "execution_count": null,
      "outputs": [
        {
          "output_type": "stream",
          "name": "stdout",
          "text": [
            "Model: \"vgg16\"\n",
            "_________________________________________________________________\n",
            " Layer (type)                Output Shape              Param #   \n",
            "=================================================================\n",
            " input_1 (InputLayer)        [(None, 150, 150, 3)]     0         \n",
            "                                                                 \n",
            " block1_conv1 (Conv2D)       (None, 150, 150, 64)      1792      \n",
            "                                                                 \n",
            " block1_conv2 (Conv2D)       (None, 150, 150, 64)      36928     \n",
            "                                                                 \n",
            " block1_pool (MaxPooling2D)  (None, 75, 75, 64)        0         \n",
            "                                                                 \n",
            " block2_conv1 (Conv2D)       (None, 75, 75, 128)       73856     \n",
            "                                                                 \n",
            " block2_conv2 (Conv2D)       (None, 75, 75, 128)       147584    \n",
            "                                                                 \n",
            " block2_pool (MaxPooling2D)  (None, 37, 37, 128)       0         \n",
            "                                                                 \n",
            " block3_conv1 (Conv2D)       (None, 37, 37, 256)       295168    \n",
            "                                                                 \n",
            " block3_conv2 (Conv2D)       (None, 37, 37, 256)       590080    \n",
            "                                                                 \n",
            " block3_conv3 (Conv2D)       (None, 37, 37, 256)       590080    \n",
            "                                                                 \n",
            " block3_pool (MaxPooling2D)  (None, 18, 18, 256)       0         \n",
            "                                                                 \n",
            " block4_conv1 (Conv2D)       (None, 18, 18, 512)       1180160   \n",
            "                                                                 \n",
            " block4_conv2 (Conv2D)       (None, 18, 18, 512)       2359808   \n",
            "                                                                 \n",
            " block4_conv3 (Conv2D)       (None, 18, 18, 512)       2359808   \n",
            "                                                                 \n",
            " block4_pool (MaxPooling2D)  (None, 9, 9, 512)         0         \n",
            "                                                                 \n",
            " block5_conv1 (Conv2D)       (None, 9, 9, 512)         2359808   \n",
            "                                                                 \n",
            " block5_conv2 (Conv2D)       (None, 9, 9, 512)         2359808   \n",
            "                                                                 \n",
            " block5_conv3 (Conv2D)       (None, 9, 9, 512)         2359808   \n",
            "                                                                 \n",
            " block5_pool (MaxPooling2D)  (None, 4, 4, 512)         0         \n",
            "                                                                 \n",
            "=================================================================\n",
            "Total params: 14,714,688\n",
            "Trainable params: 7,079,424\n",
            "Non-trainable params: 7,635,264\n",
            "_________________________________________________________________\n"
          ]
        }
      ]
    },
    {
      "cell_type": "code",
      "metadata": {
        "id": "axDVVifht8wo"
      },
      "source": [
        "new_model.compile(loss='binary_crossentropy',\n",
        "optimizer=keras.optimizers.RMSprop(learning_rate=1e-5),\n",
        "metrics='acc')"
      ],
      "execution_count": null,
      "outputs": []
    },
    {
      "cell_type": "code",
      "metadata": {
        "id": "nPXKc7n4u_-B",
        "colab": {
          "base_uri": "https://localhost:8080/"
        },
        "outputId": "82075a54-a626-46ff-9460-d6399cd63aa3"
      },
      "source": [
        "result_fine_tune = new_model.fit(train_generator_vgg16,\n",
        "                                 steps_per_epoch = 100,\n",
        "                                 epochs = 20,\n",
        "                                 validation_data = validation_generator,\n",
        "                                 validation_steps = 50)"
      ],
      "execution_count": null,
      "outputs": [
        {
          "output_type": "stream",
          "name": "stdout",
          "text": [
            "Epoch 1/20\n",
            "100/100 [==============================] - 21s 200ms/step - loss: 0.2840 - acc: 0.8785 - val_loss: 0.2198 - val_acc: 0.9120\n",
            "Epoch 2/20\n",
            "100/100 [==============================] - 21s 207ms/step - loss: 0.2475 - acc: 0.8895 - val_loss: 0.2249 - val_acc: 0.9130\n",
            "Epoch 3/20\n",
            "100/100 [==============================] - 20s 197ms/step - loss: 0.2302 - acc: 0.9070 - val_loss: 0.2182 - val_acc: 0.9110\n",
            "Epoch 4/20\n",
            "100/100 [==============================] - 20s 197ms/step - loss: 0.2041 - acc: 0.9135 - val_loss: 0.1999 - val_acc: 0.9200\n",
            "Epoch 5/20\n",
            "100/100 [==============================] - 20s 198ms/step - loss: 0.1955 - acc: 0.9215 - val_loss: 0.2386 - val_acc: 0.9080\n",
            "Epoch 6/20\n",
            "100/100 [==============================] - 20s 197ms/step - loss: 0.1815 - acc: 0.9215 - val_loss: 0.1895 - val_acc: 0.9290\n",
            "Epoch 7/20\n",
            "100/100 [==============================] - 20s 196ms/step - loss: 0.1626 - acc: 0.9320 - val_loss: 0.2087 - val_acc: 0.9180\n",
            "Epoch 8/20\n",
            "100/100 [==============================] - 20s 198ms/step - loss: 0.1718 - acc: 0.9270 - val_loss: 0.1884 - val_acc: 0.9310\n",
            "Epoch 9/20\n",
            "100/100 [==============================] - 20s 197ms/step - loss: 0.1588 - acc: 0.9345 - val_loss: 0.2082 - val_acc: 0.9250\n",
            "Epoch 10/20\n",
            "100/100 [==============================] - 20s 198ms/step - loss: 0.1513 - acc: 0.9345 - val_loss: 0.1785 - val_acc: 0.9290\n",
            "Epoch 11/20\n",
            "100/100 [==============================] - 20s 199ms/step - loss: 0.1526 - acc: 0.9360 - val_loss: 0.1850 - val_acc: 0.9300\n",
            "Epoch 12/20\n",
            "100/100 [==============================] - 20s 198ms/step - loss: 0.1374 - acc: 0.9390 - val_loss: 0.1751 - val_acc: 0.9330\n",
            "Epoch 13/20\n",
            "100/100 [==============================] - 20s 197ms/step - loss: 0.1200 - acc: 0.9475 - val_loss: 0.1929 - val_acc: 0.9310\n",
            "Epoch 14/20\n",
            "100/100 [==============================] - 20s 196ms/step - loss: 0.1208 - acc: 0.9495 - val_loss: 0.2056 - val_acc: 0.9250\n",
            "Epoch 15/20\n",
            "100/100 [==============================] - 20s 197ms/step - loss: 0.1051 - acc: 0.9630 - val_loss: 0.1996 - val_acc: 0.9300\n",
            "Epoch 16/20\n",
            "100/100 [==============================] - 20s 198ms/step - loss: 0.1152 - acc: 0.9545 - val_loss: 0.1922 - val_acc: 0.9350\n",
            "Epoch 17/20\n",
            "100/100 [==============================] - 20s 197ms/step - loss: 0.1013 - acc: 0.9600 - val_loss: 0.2275 - val_acc: 0.9190\n",
            "Epoch 18/20\n",
            "100/100 [==============================] - 20s 204ms/step - loss: 0.1091 - acc: 0.9550 - val_loss: 0.1822 - val_acc: 0.9360\n",
            "Epoch 19/20\n",
            "100/100 [==============================] - 20s 197ms/step - loss: 0.0910 - acc: 0.9660 - val_loss: 0.1925 - val_acc: 0.9330\n",
            "Epoch 20/20\n",
            "100/100 [==============================] - 20s 196ms/step - loss: 0.0971 - acc: 0.9620 - val_loss: 0.3132 - val_acc: 0.9060\n"
          ]
        }
      ]
    },
    {
      "cell_type": "code",
      "metadata": {
        "id": "U8uYKE8Evdol",
        "colab": {
          "base_uri": "https://localhost:8080/",
          "height": 541
        },
        "outputId": "969e8ee7-546c-423d-e980-2efb1d663f92"
      },
      "source": [
        "acc = result_fine_tune.history['acc']\n",
        "loss = result_fine_tune.history['loss']\n",
        "validation_acc = result_fine_tune.history['val_acc']\n",
        "validation_loss = result_fine_tune.history['val_loss']\n",
        "\n",
        "x = range(1,len(acc)+1)\n",
        "\n",
        "plt.plot(x,acc,'x-b',label = 'Training Accuracy')\n",
        "plt.plot(x,validation_acc,'o-m',label = 'Validation Accuracy')\n",
        "plt.xlabel('Epochs')\n",
        "plt.ylabel('Accuracy')\n",
        "plt.legend()\n",
        "plt.figure()\n",
        "plt.plot(x,loss,'x-b',label = 'Training Loss')\n",
        "plt.plot(x,validation_loss,'o-m',label = 'Validation Loss')\n",
        "plt.xlabel('Epochs')\n",
        "plt.ylabel('Loss')\n",
        "plt.legend()\n",
        "plt.show()"
      ],
      "execution_count": null,
      "outputs": [
        {
          "output_type": "display_data",
          "data": {
            "text/plain": [
              "<Figure size 432x288 with 1 Axes>"
            ],
            "image/png": "[encoded data removed]"
          },
          "metadata": {
            "needs_background": "light"
          }
        },
        {
          "output_type": "display_data",
          "data": {
            "text/plain": [
              "<Figure size 432x288 with 1 Axes>"
            ],
            "image/png": "[encoded data removed]"
          },
          "metadata": {
            "needs_background": "light"
          }
        }
      ]
    },
    {
      "cell_type": "markdown",
      "metadata": {
        "id": "HYEBwSSr4Hlc"
      },
      "source": [
        "As we can see, our validation accuracy has increased to almost 94% by fine-tuning our model. This is a really good accuracy considering we are working with only 2000 training images. There is still overfitting a lot of room to improve our model but for now, let's test this model on completely unseen data. "
      ]
    },
    {
      "cell_type": "code",
      "metadata": {
        "id": "kcKJqSmu4Y-7",
        "colab": {
          "base_uri": "https://localhost:8080/"
        },
        "outputId": "1461926f-c92d-4574-b68c-3380eb1b2d75"
      },
      "source": [
        "test_generator = datagen.flow_from_directory(\n",
        "test_directory,\n",
        "target_size=(150, 150),\n",
        "batch_size = 25,\n",
        "class_mode='binary')"
      ],
      "execution_count": null,
      "outputs": [
        {
          "output_type": "stream",
          "name": "stdout",
          "text": [
            "Found 1000 images belonging to 2 classes.\n"
          ]
        }
      ]
    },
    {
      "cell_type": "code",
      "metadata": {
        "id": "V8lunnJ54a8n",
        "colab": {
          "base_uri": "https://localhost:8080/"
        },
        "outputId": "4915cd37-7b4f-451a-c6dd-e82a9e33703c"
      },
      "source": [
        "test_loss, test_accuracy = new_model.evaluate(test_generator, steps=40)\n",
        "print('test accuracy: ' + str(test_accuracy*100) + '%')"
      ],
      "execution_count": null,
      "outputs": [
        {
          "output_type": "stream",
          "name": "stdout",
          "text": [
            "40/40 [==============================] - 5s 84ms/step - loss: 0.3003 - acc: 0.9130\n",
            "test accuracy: 91.29999876022339%\n"
          ]
        }
      ]
    },
    {
      "cell_type": "markdown",
      "metadata": {
        "id": "-c6wvAQQH6ce"
      },
      "source": [
        "We get an accuracy of almost 94% on our test sample. "
      ]
    },
    {
      "cell_type": "markdown",
      "metadata": {
        "id": "HEMgn3slIBnz"
      },
      "source": [
        "Try out the model by uploading cat or dog images from your local machine by running the next two cells."
      ]
    },
    {
      "cell_type": "code",
      "metadata": {
        "id": "6XeoTU19D572"
      },
      "source": [
        "if os.getcwd() != '/content':\n",
        "  os.chdir('/content')"
      ],
      "execution_count": null,
      "outputs": []
    },
    {
      "cell_type": "code",
      "metadata": {
        "id": "Iwcpo0ym4hby",
        "colab": {
          "resources": {
            "http://localhost:8080/nbextensions/google.colab/files.js": {
              "data": "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",
              "ok": true,
              "headers": [
                [
                  "content-type",
                  "application/javascript"
                ]
              ],
              "status": 200,
              "status_text": ""
            }
          },
          "base_uri": "https://localhost:8080/",
          "height": 90
        },
        "outputId": "3648137e-3378-405c-f0af-44b74299df19"
      },
      "source": [
        "\n",
        "import numpy as np\n",
        "from google.colab import files\n",
        "from keras.preprocessing import image\n",
        "\n",
        "uploaded = files.upload()\n",
        "\n",
        "for fn in uploaded.keys():\n",
        "  path = '/content/' + fn\n",
        "  img = image.load_img(path, target_size=(150, 150))\n",
        "  x = image.img_to_array(img)\n",
        "  x = np.expand_dims(x, axis=0)\n",
        "  images = np.vstack([x])\n",
        "  probability = new_model.predict(images, batch_size=10)\n",
        "  if probability > 0.5:\n",
        "    print('Image is of a dog.')\n",
        "  elif probability < 0.5:\n",
        "    print('Image is of a cat.')\n",
        "  else:\n",
        "    print('Image is ambiguous. ')\n",
        "  os.remove(path)"
      ],
      "execution_count": null,
      "outputs": [
        {
          "output_type": "display_data",
          "data": {
            "text/plain": [
              "<IPython.core.display.HTML object>"
            ],
            "text/html": [
              "\n",
              "     <input type=\"file\" id=\"files-478c159b-cd62-4bf9-99f1-5c5e931a00cc\" name=\"files[]\" multiple disabled\n",
              "        style=\"border:none\" />\n",
              "     <output id=\"result-478c159b-cd62-4bf9-99f1-5c5e931a00cc\">\n",
              "      Upload widget is only available when the cell has been executed in the\n",
              "      current browser session. Please rerun this cell to enable.\n",
              "      </output>\n",
              "      <script src=\"/nbextensions/google.colab/files.js\"></script> "
            ]
          },
          "metadata": {}
        },
        {
          "output_type": "stream",
          "name": "stdout",
          "text": [
            "Saving 24459750_eb49f6e4cb_m.jpg to 24459750_eb49f6e4cb_m.jpg\n",
            "Image is of a dog.\n"
          ]
        }
      ]
    }
  ]
}